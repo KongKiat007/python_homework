{
 "cells": [
  {
   "cell_type": "code",
   "execution_count": 3,
   "id": "4e692683-6a41-4130-82af-a35c20ea7cfb",
   "metadata": {},
   "outputs": [
    {
     "name": "stdin",
     "output_type": "stream",
     "text": [
      " 3 12\n"
     ]
    },
    {
     "name": "stdout",
     "output_type": "stream",
     "text": [
      "4\n"
     ]
    }
   ],
   "source": [
    "import math\n",
    "X, Y = map(int, input().split())\n",
    "min_jumps = math.ceil(Y / X)\n",
    "print(min_jumps)\n"
   ]
  },
  {
   "cell_type": "code",
   "execution_count": null,
   "id": "6db1a989-08f5-43ba-8110-8210960bcf51",
   "metadata": {},
   "outputs": [],
   "source": []
  }
 ],
 "metadata": {
  "kernelspec": {
   "display_name": "Python 3 (ipykernel)",
   "language": "python",
   "name": "python3"
  },
  "language_info": {
   "codemirror_mode": {
    "name": "ipython",
    "version": 3
   },
   "file_extension": ".py",
   "mimetype": "text/x-python",
   "name": "python",
   "nbconvert_exporter": "python",
   "pygments_lexer": "ipython3",
   "version": "3.13.2"
  }
 },
 "nbformat": 4,
 "nbformat_minor": 5
}
