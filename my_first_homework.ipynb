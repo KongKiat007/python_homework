{
 "cells": [
  {
   "cell_type": "markdown",
   "id": "b04fca3e-9e8e-44d7-b7db-c06674a113fc",
   "metadata": {},
   "source": [
    "นายก้องเกียรติ คงนิล\n",
    "\n",
    "เลขที่ 6712732102"
   ]
  },
  {
   "cell_type": "code",
   "execution_count": 3,
   "id": "6c5873a7-dd43-428d-b768-acf3e4a03e14",
   "metadata": {},
   "outputs": [
    {
     "name": "stdout",
     "output_type": "stream",
     "text": [
      "Hello, World\n"
     ]
    }
   ],
   "source": [
    "print(\"Hello, World\")"
   ]
  },
  {
   "cell_type": "code",
   "execution_count": null,
   "id": "31ce9121-c5d6-4761-97ad-7dbee002f3a0",
   "metadata": {},
   "outputs": [],
   "source": []
  }
 ],
 "metadata": {
  "kernelspec": {
   "display_name": "Python 3 (ipykernel)",
   "language": "python",
   "name": "python3"
  },
  "language_info": {
   "codemirror_mode": {
    "name": "ipython",
    "version": 3
   },
   "file_extension": ".py",
   "mimetype": "text/x-python",
   "name": "python",
   "nbconvert_exporter": "python",
   "pygments_lexer": "ipython3",
   "version": "3.13.0"
  }
 },
 "nbformat": 4,
 "nbformat_minor": 5
}
